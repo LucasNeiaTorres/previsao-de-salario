{
  "nbformat": 4,
  "nbformat_minor": 0,
  "metadata": {
    "colab": {
      "name": "salaryPreviewFIFA",
      "provenance": [],
      "authorship_tag": "ABX9TyPkOGU8Sz0sBnAaVSneBY90",
      "include_colab_link": true
    },
    "kernelspec": {
      "name": "python3",
      "display_name": "Python 3"
    },
    "language_info": {
      "name": "python"
    }
  },
  "cells": [
    {
      "cell_type": "markdown",
      "metadata": {
        "id": "view-in-github",
        "colab_type": "text"
      },
      "source": [
        "<a href=\"https://colab.research.google.com/github/LucasNeiaTorres/previsao-de-salario/blob/main/previsao_salario_FIFA.ipynb\" target=\"_parent\"><img src=\"https://colab.research.google.com/assets/colab-badge.svg\" alt=\"Open In Colab\"/></a>"
      ]
    },
    {
      "cell_type": "code",
      "metadata": {
        "id": "eYNzJwtE2ou8"
      },
      "source": [
        "import pandas as pd\n",
        "import numpy as np\n",
        "import matplotlib.pyplot as plt\n",
        "import seaborn as sns"
      ],
      "execution_count": null,
      "outputs": []
    },
    {
      "cell_type": "code",
      "metadata": {
        "id": "RydOVrzd3PzB"
      },
      "source": [
        "dados = pd.read_csv('sds_fifa.csv')"
      ],
      "execution_count": null,
      "outputs": []
    },
    {
      "cell_type": "code",
      "metadata": {
        "id": "V4QC67bR3ezs"
      },
      "source": [
        "dados.drop('Unnamed: 0', axis=1, inplace=True)"
      ],
      "execution_count": null,
      "outputs": []
    },
    {
      "cell_type": "code",
      "metadata": {
        "id": "PYhaRo9A3268"
      },
      "source": [
        "colunas = ['Nome', 'Time']"
      ],
      "execution_count": null,
      "outputs": []
    },
    {
      "cell_type": "code",
      "metadata": {
        "id": "uICPZfsr37zd"
      },
      "source": [
        "dados.drop(colunas, axis=1, inplace=True)"
      ],
      "execution_count": null,
      "outputs": []
    },
    {
      "cell_type": "code",
      "metadata": {
        "id": "xmAJtAQH4EzN"
      },
      "source": [
        "dados['Salario'] = dados['Salario'].str.replace('€', '')"
      ],
      "execution_count": null,
      "outputs": []
    },
    {
      "cell_type": "code",
      "metadata": {
        "id": "XN2JtbfT4lHo"
      },
      "source": [
        "dados['Salario'] = dados['Salario'].str.replace('K', '000')"
      ],
      "execution_count": null,
      "outputs": []
    },
    {
      "cell_type": "code",
      "metadata": {
        "id": "cpAgy8Hd4oMv"
      },
      "source": [
        "dados['Salario'] = dados['Salario'].astype(str).astype(int)"
      ],
      "execution_count": null,
      "outputs": []
    },
    {
      "cell_type": "code",
      "metadata": {
        "id": "jBKjsHiG5bbP"
      },
      "source": [
        "dados = dados[['Idade', 'Posicao', 'Media', 'Potencial','Total_Pontos', \n",
        "               'Salario']]"
      ],
      "execution_count": null,
      "outputs": []
    },
    {
      "cell_type": "code",
      "metadata": {
        "id": "TXXcLMhZ5wmK"
      },
      "source": [
        "X = dados.iloc[:, :-1].values"
      ],
      "execution_count": null,
      "outputs": []
    },
    {
      "cell_type": "code",
      "metadata": {
        "id": "hObq4-4D6bNq"
      },
      "source": [
        "y = dados.iloc[:, -1].values"
      ],
      "execution_count": null,
      "outputs": []
    },
    {
      "cell_type": "code",
      "metadata": {
        "id": "vpjBSJOX618p"
      },
      "source": [
        "from sklearn.compose import ColumnTransformer\n",
        "from sklearn.preprocessing import OneHotEncoder\n",
        "ct = ColumnTransformer([('encoder', OneHotEncoder(), [1])], remainder='passthrough')\n",
        "X = ct.fit_transform(X).toarray()"
      ],
      "execution_count": null,
      "outputs": []
    },
    {
      "cell_type": "markdown",
      "metadata": {
        "id": "10ZF6C2r-ptM"
      },
      "source": [
        "# Criar Machine Learning\n"
      ]
    },
    {
      "cell_type": "code",
      "metadata": {
        "id": "LWIQdgCm-vRa"
      },
      "source": [
        "from sklearn.model_selection import train_test_split\n",
        "X_train, X_test, y_train, y_test = train_test_split(X, y, test_size=0.2, random_state=0)"
      ],
      "execution_count": null,
      "outputs": []
    },
    {
      "cell_type": "code",
      "metadata": {
        "id": "7pRg9o-V_N0d"
      },
      "source": [
        "from sklearn.linear_model import LinearRegression\n",
        "regressor = LinearRegression()"
      ],
      "execution_count": null,
      "outputs": []
    },
    {
      "cell_type": "code",
      "metadata": {
        "colab": {
          "base_uri": "https://localhost:8080/"
        },
        "id": "Yf_BwK2x_k94",
        "outputId": "da7a3da6-6277-4999-c5cf-75301dbb44c1"
      },
      "source": [
        "regressor.fit(X_train, y_train)"
      ],
      "execution_count": null,
      "outputs": [
        {
          "output_type": "execute_result",
          "data": {
            "text/plain": [
              "LinearRegression(copy_X=True, fit_intercept=True, n_jobs=None, normalize=False)"
            ]
          },
          "metadata": {
            "tags": []
          },
          "execution_count": 80
        }
      ]
    },
    {
      "cell_type": "code",
      "metadata": {
        "colab": {
          "base_uri": "https://localhost:8080/"
        },
        "id": "11SS--6w_tx-",
        "outputId": "9eedb18c-6afd-4806-b62b-d21b43267448"
      },
      "source": [
        "y_pred = regressor.predict(X_test)\n",
        "np.set_printoptions(precision=2)\n",
        "print(np.concatenate((y_pred.reshape(len(y_pred), 1), y_test.reshape(len(y_test), 1)), 1))"
      ],
      "execution_count": null,
      "outputs": [
        {
          "output_type": "stream",
          "text": [
            "[[256713.74 230000.  ]\n",
            " [374023.63 290000.  ]\n",
            " [162110.57 125000.  ]\n",
            " [109574.93 190000.  ]\n",
            " [150961.86 140000.  ]\n",
            " [216310.3  280000.  ]\n",
            " [273782.26 310000.  ]\n",
            " [194097.05 140000.  ]\n",
            " [279970.37 350000.  ]\n",
            " [130993.7  110000.  ]\n",
            " [224923.26 220000.  ]\n",
            " [184287.85 145000.  ]\n",
            " [128040.34 125000.  ]\n",
            " [148828.84 110000.  ]\n",
            " [220169.31 160000.  ]\n",
            " [147481.8  190000.  ]\n",
            " [374023.63 290000.  ]\n",
            " [ 51583.47  24000.  ]\n",
            " [343527.92 470000.  ]\n",
            " [326575.22 370000.  ]\n",
            " [162110.57 125000.  ]\n",
            " [465983.33 560000.  ]\n",
            " [194097.05 140000.  ]\n",
            " [256713.74 230000.  ]\n",
            " [172119.66 210000.  ]\n",
            " [306765.   300000.  ]\n",
            " [109574.93 190000.  ]\n",
            " [224923.26 220000.  ]\n",
            " [232019.26 280000.  ]\n",
            " [194240.64 135000.  ]\n",
            " [220169.31 160000.  ]\n",
            " [279970.37 350000.  ]\n",
            " [306765.   300000.  ]\n",
            " [256713.74 230000.  ]\n",
            " [343527.92 470000.  ]\n",
            " [184287.85 145000.  ]\n",
            " [ 97601.2  190000.  ]\n",
            " [205421.37 280000.  ]\n",
            " [223194.39 160000.  ]\n",
            " [407480.74 410000.  ]\n",
            " [148828.84 110000.  ]\n",
            " [273782.26 310000.  ]\n",
            " [223194.39 160000.  ]\n",
            " [313262.23 240000.  ]\n",
            " [109574.93 190000.  ]\n",
            " [197482.57 220000.  ]\n",
            " [194240.64 135000.  ]\n",
            " [195910.13 160000.  ]\n",
            " [343527.92 470000.  ]\n",
            " [ 78710.52  72000.  ]\n",
            " [255143.32 340000.  ]\n",
            " [224185.34 135000.  ]\n",
            " [279832.   300000.  ]\n",
            " [155888.87  47000.  ]\n",
            " [326575.22 370000.  ]\n",
            " [248612.62 220000.  ]\n",
            " [232019.26 280000.  ]\n",
            " [407480.74 410000.  ]\n",
            " [200329.07  74000.  ]\n",
            " [240722.11 125000.  ]\n",
            " [407480.74 410000.  ]\n",
            " [154520.31 135000.  ]\n",
            " [257789.85 340000.  ]\n",
            " [130993.7  110000.  ]\n",
            " [223194.39 160000.  ]\n",
            " [231501.35 250000.  ]\n",
            " [313262.23 240000.  ]\n",
            " [193705.88 200000.  ]\n",
            " [162110.57 125000.  ]\n",
            " [147481.8  190000.  ]\n",
            " [465983.33 560000.  ]\n",
            " [174847.15 195000.  ]\n",
            " [193067.03 200000.  ]\n",
            " [ 91233.02  89000.  ]\n",
            " [130887.62  42000.  ]\n",
            " [130993.7  110000.  ]\n",
            " [163301.82 125000.  ]\n",
            " [217766.3  195000.  ]\n",
            " [148828.84 110000.  ]\n",
            " [148828.84 110000.  ]\n",
            " [306765.   300000.  ]\n",
            " [164903.52 185000.  ]\n",
            " [273782.26 310000.  ]\n",
            " [109574.93 190000.  ]\n",
            " [257789.85 340000.  ]\n",
            " [163301.82 125000.  ]\n",
            " [257789.85 340000.  ]\n",
            " [ 80791.27  43000.  ]\n",
            " [145522.39 230000.  ]\n",
            " [164903.52 185000.  ]\n",
            " [240722.11 125000.  ]\n",
            " [205421.37 280000.  ]\n",
            " [248612.62 220000.  ]\n",
            " [232019.26 280000.  ]\n",
            " [109574.93 190000.  ]\n",
            " [306765.   300000.  ]\n",
            " [300484.46 370000.  ]\n",
            " [224923.26 220000.  ]\n",
            " [306765.   300000.  ]\n",
            " [200329.07  74000.  ]\n",
            " [306765.   300000.  ]\n",
            " [248612.62 220000.  ]\n",
            " [174847.15 195000.  ]\n",
            " [164903.52 185000.  ]\n",
            " [131522.16 140000.  ]\n",
            " [313262.23 240000.  ]\n",
            " [302558.77 320000.  ]\n",
            " [326575.22 370000.  ]\n",
            " [190589.73 210000.  ]\n",
            " [300484.46 370000.  ]\n",
            " [174847.15 195000.  ]\n",
            " [150961.86 140000.  ]\n",
            " [193067.03 200000.  ]\n",
            " [163301.82 125000.  ]\n",
            " [ 78710.52  72000.  ]\n",
            " [248612.62 220000.  ]\n",
            " [232019.26 280000.  ]\n",
            " [255143.32 340000.  ]\n",
            " [219959.41 150000.  ]\n",
            " [224185.34 135000.  ]]\n"
          ],
          "name": "stdout"
        }
      ]
    },
    {
      "cell_type": "code",
      "metadata": {
        "colab": {
          "base_uri": "https://localhost:8080/"
        },
        "id": "Q9AKkrEdBJq6",
        "outputId": "07644861-28e1-4e76-9141-a7440e1b2185"
      },
      "source": [
        "regressor.score(X_test, y_test)"
      ],
      "execution_count": null,
      "outputs": [
        {
          "output_type": "execute_result",
          "data": {
            "text/plain": [
              "0.7089710245098851"
            ]
          },
          "metadata": {
            "tags": []
          },
          "execution_count": 82
        }
      ]
    },
    {
      "cell_type": "code",
      "metadata": {
        "id": "zK1NUoIrBtuI"
      },
      "source": [
        "importancia = regressor.coef_"
      ],
      "execution_count": null,
      "outputs": []
    },
    {
      "cell_type": "code",
      "metadata": {
        "colab": {
          "base_uri": "https://localhost:8080/",
          "height": 554
        },
        "id": "W9vkRNo-BcBS",
        "outputId": "388c94af-a734-47f1-a20a-ab4fba34182f"
      },
      "source": [
        "for i, v in enumerate(importancia):\n",
        "  print('Feature: %0d, Score: %.5f' % (i,v))\n",
        "\n",
        "plt.bar([x for x in range(len(importancia))], importancia)\n",
        "plt.show()"
      ],
      "execution_count": null,
      "outputs": [
        {
          "output_type": "stream",
          "text": [
            "Feature: 0, Score: -15488.79498\n",
            "Feature: 1, Score: -24056.10953\n",
            "Feature: 2, Score: -3604.48948\n",
            "Feature: 3, Score: 21358.00069\n",
            "Feature: 4, Score: -5059.89474\n",
            "Feature: 5, Score: 31067.59775\n",
            "Feature: 6, Score: 33022.85982\n",
            "Feature: 7, Score: 639.84003\n",
            "Feature: 8, Score: 23847.25937\n",
            "Feature: 9, Score: 27678.57481\n",
            "Feature: 10, Score: -62080.98557\n",
            "Feature: 11, Score: 4325.44699\n",
            "Feature: 12, Score: -31649.30514\n",
            "Feature: 13, Score: 7035.22525\n",
            "Feature: 14, Score: 23255.08848\n",
            "Feature: 15, Score: 8990.88866\n",
            "Feature: 16, Score: 155.43994\n"
          ],
          "name": "stdout"
        },
        {
          "output_type": "display_data",
          "data": {
            "image/png": "[encoded data removed]",
            "text/plain": [
              "<Figure size 432x288 with 1 Axes>"
            ]
          },
          "metadata": {
            "tags": [],
            "needs_background": "light"
          }
        }
      ]
    },
    {
      "cell_type": "code",
      "metadata": {
        "colab": {
          "base_uri": "https://localhost:8080/",
          "height": 296
        },
        "id": "MF-VBHr_CcYV",
        "outputId": "b62b15ca-1bdd-4ab7-f957-d8d60c618065"
      },
      "source": [
        "sns.regplot(x='Potencial', y='Salario', data=dados)"
      ],
      "execution_count": null,
      "outputs": [
        {
          "output_type": "execute_result",
          "data": {
            "text/plain": [
              "<matplotlib.axes._subplots.AxesSubplot at 0x7f0b2de46590>"
            ]
          },
          "metadata": {
            "tags": []
          },
          "execution_count": 96
        },
        {
          "output_type": "display_data",
          "data": {
            "image/png": "[encoded data removed]",
            "text/plain": [
              "<Figure size 432x288 with 1 Axes>"
            ]
          },
          "metadata": {
            "tags": [],
            "needs_background": "light"
          }
        }
      ]
    },
    {
      "cell_type": "code",
      "metadata": {
        "colab": {
          "base_uri": "https://localhost:8080/",
          "height": 400
        },
        "id": "hR8f9jhWEYSj",
        "outputId": "a83cd98c-02e4-4dde-fa29-35e6d63177b6"
      },
      "source": [
        "sns.lmplot(x='Media', y='Salario', data=dados, x_estimator=np.mean)"
      ],
      "execution_count": null,
      "outputs": [
        {
          "output_type": "execute_result",
          "data": {
            "text/plain": [
              "<seaborn.axisgrid.FacetGrid at 0x7f0b2ddb5890>"
            ]
          },
          "metadata": {
            "tags": []
          },
          "execution_count": 97
        },
        {
          "output_type": "display_data",
          "data": {
            "image/png": "[encoded data removed]",
            "text/plain": [
              "<Figure size 360x360 with 1 Axes>"
            ]
          },
          "metadata": {
            "tags": [],
            "needs_background": "light"
          }
        }
      ]
    },
    {
      "cell_type": "code",
      "metadata": {
        "colab": {
          "base_uri": "https://localhost:8080/",
          "height": 458
        },
        "id": "xr1Ktbc4ErQi",
        "outputId": "c830d889-aaa7-44f5-93c2-c24199baba01"
      },
      "source": [
        "sns.jointplot(x='Potencial', y='Salario', data=dados, kind='reg')"
      ],
      "execution_count": null,
      "outputs": [
        {
          "output_type": "execute_result",
          "data": {
            "text/plain": [
              "<seaborn.axisgrid.JointGrid at 0x7f0b2dde75d0>"
            ]
          },
          "metadata": {
            "tags": []
          },
          "execution_count": 98
        },
        {
          "output_type": "display_data",
          "data": {
            "image/png": "[encoded data removed]",
            "text/plain": [
              "<Figure size 432x432 with 3 Axes>"
            ]
          },
          "metadata": {
            "tags": [],
            "needs_background": "light"
          }
        }
      ]
    }
  ]
}